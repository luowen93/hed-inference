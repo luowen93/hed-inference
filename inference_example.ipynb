{
 "cells": [
  {
   "cell_type": "code",
   "execution_count": 1,
   "id": "19a8aeff",
   "metadata": {},
   "outputs": [],
   "source": [
    "import torch\n",
    "import cv2\n",
    "import numpy as np\n",
    "import wandb\n",
    "import os\n",
    "import time\n",
    "import torchvision.transforms as T\n",
    "import PIL\n",
    "import matplotlib.pyplot as plt\n",
    "from model import load_model, HED"
   ]
  },
  {
   "cell_type": "code",
   "execution_count": 2,
   "id": "b3ff69da",
   "metadata": {},
   "outputs": [],
   "source": [
    "device = torch.device(\"cuda\" if torch.cuda.is_available() else \"cpu\")"
   ]
  },
  {
   "cell_type": "code",
   "execution_count": 3,
   "id": "4374c77d",
   "metadata": {},
   "outputs": [],
   "source": [
    "def preprocess(img, device, convert = True):\n",
    "#     img = cv2.imread(fp)\n",
    "    if convert:\n",
    "        img = cv2.cvtColor(img, cv2.COLOR_BGR2RGB)\n",
    "    img = img.astype(np.float32)\n",
    "    img -= np.array((104.00698793,116.66876762,122.67891434))\n",
    "    tf = T.ToTensor()\n",
    "    x = tf(img).unsqueeze(0).to(device)\n",
    "    \n",
    "    return x\n",
    "\n",
    "def model_inference(model,x):\n",
    "    with torch.no_grad():\n",
    "        preds_tuple = model.forward(x)\n",
    "        outputs = preds_tuple[-1]  # use fuse output\n",
    "    edge = outputs.cpu()\n",
    "    edge = edge.squeeze()\n",
    "    edge = edge.numpy()\n",
    "    return edge\n",
    "\n",
    "def prepare_model(path,device):\n",
    "    \n",
    "    model = load_model(model_path) # Load model\n",
    "    model = model.to(device) # Move to device\n",
    "    model.eval() # Evaluation mode for inference\n",
    "    \n",
    "    return model"
   ]
  },
  {
   "cell_type": "code",
   "execution_count": 4,
   "id": "7e772641",
   "metadata": {},
   "outputs": [],
   "source": [
    "# #  Load model do inference\n",
    "model_path = 'hed_checkpoint.pt'\n",
    "model = prepare_model(model_path, device)\n",
    "\n",
    "# Apply the transform\n",
    "img = cv2.imread('data/bear.jpg')\n",
    "x = preprocess(img, device)\n",
    "\n",
    "edge = model_inference(model,x)\n",
    "\n",
    "cv2.imshow('example',edge)\n",
    "cv2.waitKey(0)\n",
    "cv2.destroyAllWindows()"
   ]
  },
  {
   "cell_type": "code",
   "execution_count": 5,
   "id": "aa93ad59",
   "metadata": {},
   "outputs": [],
   "source": [
    "# Webcam example\n",
    "import cv2\n",
    "\n",
    "def show_webcam(mirror=False, concat = True):\n",
    "    cam = cv2.VideoCapture(0)\n",
    "    \n",
    "    while True:\n",
    "        ret_val, img = cam.read()\n",
    "        \n",
    "        # Preprocess and do inference\n",
    "        x = preprocess(img,device,convert=True)\n",
    "        edge_map = model_inference(model,x)\n",
    "        \n",
    "        # Convert to rgb\n",
    "        edge_map_rgb = cv2.cvtColor(edge_map, cv2.COLOR_GRAY2RGB) # Change to rgb\n",
    "        edge_map_rgb = (255*edge_map_rgb).astype(np.uint8) # Change to uint8 \n",
    "        \n",
    "        # Concatenate the original and the edge map\n",
    "        if concat:\n",
    "            display_img = cv2.hconcat([img, edge_map_rgb])\n",
    "        else:\n",
    "            display_img = edge_map\n",
    "\n",
    "        if mirror: \n",
    "            display_img = cv2.flip(display_img, 1)\n",
    "            \n",
    "        cv2.imshow('my webcam', display_img)\n",
    "        if cv2.waitKey(1) == 27: \n",
    "            break  # esc to quit\n",
    "    cv2.destroyAllWindows()\n",
    "    \n",
    "show_webcam()"
   ]
  }
 ],
 "metadata": {
  "kernelspec": {
   "display_name": "Python 3",
   "language": "python",
   "name": "python3"
  },
  "language_info": {
   "codemirror_mode": {
    "name": "ipython",
    "version": 3
   },
   "file_extension": ".py",
   "mimetype": "text/x-python",
   "name": "python",
   "nbconvert_exporter": "python",
   "pygments_lexer": "ipython3",
   "version": "3.8.8"
  }
 },
 "nbformat": 4,
 "nbformat_minor": 5
}
